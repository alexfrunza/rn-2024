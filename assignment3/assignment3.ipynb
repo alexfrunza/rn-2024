{
 "cells": [
  {
   "cell_type": "code",
   "execution_count": 1,
   "id": "a7eeffa1-6976-4d79-82eb-64a01410c0e8",
   "metadata": {},
   "outputs": [
    {
     "name": "stdout",
     "output_type": "stream",
     "text": [
      "Requirement already satisfied: numpy in /home/afrunza/miniforge3/envs/312/lib/python3.12/site-packages (2.1.2)\n",
      "Note: you may need to restart the kernel to use updated packages.\n",
      "Requirement already satisfied: torchvision in /home/afrunza/miniforge3/envs/312/lib/python3.12/site-packages (0.20.0)\n",
      "Requirement already satisfied: numpy in /home/afrunza/miniforge3/envs/312/lib/python3.12/site-packages (from torchvision) (2.1.2)\n",
      "Requirement already satisfied: torch==2.5.0 in /home/afrunza/miniforge3/envs/312/lib/python3.12/site-packages (from torchvision) (2.5.0)\n",
      "Requirement already satisfied: pillow!=8.3.*,>=5.3.0 in /home/afrunza/miniforge3/envs/312/lib/python3.12/site-packages (from torchvision) (11.0.0)\n",
      "Requirement already satisfied: filelock in /home/afrunza/miniforge3/envs/312/lib/python3.12/site-packages (from torch==2.5.0->torchvision) (3.16.1)\n",
      "Requirement already satisfied: typing-extensions>=4.8.0 in /home/afrunza/.local/lib/python3.12/site-packages (from torch==2.5.0->torchvision) (4.12.2)\n",
      "Requirement already satisfied: networkx in /home/afrunza/miniforge3/envs/312/lib/python3.12/site-packages (from torch==2.5.0->torchvision) (3.4.1)\n",
      "Requirement already satisfied: jinja2 in /home/afrunza/miniforge3/envs/312/lib/python3.12/site-packages (from torch==2.5.0->torchvision) (3.1.4)\n",
      "Requirement already satisfied: fsspec in /home/afrunza/miniforge3/envs/312/lib/python3.12/site-packages (from torch==2.5.0->torchvision) (2024.9.0)\n",
      "Requirement already satisfied: nvidia-cuda-nvrtc-cu12==12.4.127 in /home/afrunza/miniforge3/envs/312/lib/python3.12/site-packages (from torch==2.5.0->torchvision) (12.4.127)\n",
      "Requirement already satisfied: nvidia-cuda-runtime-cu12==12.4.127 in /home/afrunza/miniforge3/envs/312/lib/python3.12/site-packages (from torch==2.5.0->torchvision) (12.4.127)\n",
      "Requirement already satisfied: nvidia-cuda-cupti-cu12==12.4.127 in /home/afrunza/miniforge3/envs/312/lib/python3.12/site-packages (from torch==2.5.0->torchvision) (12.4.127)\n",
      "Requirement already satisfied: nvidia-cudnn-cu12==9.1.0.70 in /home/afrunza/miniforge3/envs/312/lib/python3.12/site-packages (from torch==2.5.0->torchvision) (9.1.0.70)\n",
      "Requirement already satisfied: nvidia-cublas-cu12==12.4.5.8 in /home/afrunza/miniforge3/envs/312/lib/python3.12/site-packages (from torch==2.5.0->torchvision) (12.4.5.8)\n",
      "Requirement already satisfied: nvidia-cufft-cu12==11.2.1.3 in /home/afrunza/miniforge3/envs/312/lib/python3.12/site-packages (from torch==2.5.0->torchvision) (11.2.1.3)\n",
      "Requirement already satisfied: nvidia-curand-cu12==10.3.5.147 in /home/afrunza/miniforge3/envs/312/lib/python3.12/site-packages (from torch==2.5.0->torchvision) (10.3.5.147)\n",
      "Requirement already satisfied: nvidia-cusolver-cu12==11.6.1.9 in /home/afrunza/miniforge3/envs/312/lib/python3.12/site-packages (from torch==2.5.0->torchvision) (11.6.1.9)\n",
      "Requirement already satisfied: nvidia-cusparse-cu12==12.3.1.170 in /home/afrunza/miniforge3/envs/312/lib/python3.12/site-packages (from torch==2.5.0->torchvision) (12.3.1.170)\n",
      "Requirement already satisfied: nvidia-nccl-cu12==2.21.5 in /home/afrunza/miniforge3/envs/312/lib/python3.12/site-packages (from torch==2.5.0->torchvision) (2.21.5)\n",
      "Requirement already satisfied: nvidia-nvtx-cu12==12.4.127 in /home/afrunza/miniforge3/envs/312/lib/python3.12/site-packages (from torch==2.5.0->torchvision) (12.4.127)\n",
      "Requirement already satisfied: nvidia-nvjitlink-cu12==12.4.127 in /home/afrunza/miniforge3/envs/312/lib/python3.12/site-packages (from torch==2.5.0->torchvision) (12.4.127)\n",
      "Requirement already satisfied: triton==3.1.0 in /home/afrunza/miniforge3/envs/312/lib/python3.12/site-packages (from torch==2.5.0->torchvision) (3.1.0)\n",
      "Requirement already satisfied: setuptools in /home/afrunza/miniforge3/envs/312/lib/python3.12/site-packages (from torch==2.5.0->torchvision) (75.1.0)\n",
      "Requirement already satisfied: sympy==1.13.1 in /home/afrunza/miniforge3/envs/312/lib/python3.12/site-packages (from torch==2.5.0->torchvision) (1.13.1)\n",
      "Requirement already satisfied: mpmath<1.4,>=1.1.0 in /home/afrunza/miniforge3/envs/312/lib/python3.12/site-packages (from sympy==1.13.1->torch==2.5.0->torchvision) (1.3.0)\n",
      "Requirement already satisfied: MarkupSafe>=2.0 in /home/afrunza/miniforge3/envs/312/lib/python3.12/site-packages (from jinja2->torch==2.5.0->torchvision) (3.0.1)\n",
      "Note: you may need to restart the kernel to use updated packages.\n"
     ]
    }
   ],
   "source": [
    "%pip install numpy\n",
    "%pip install torchvision"
   ]
  },
  {
   "cell_type": "code",
   "execution_count": 76,
   "id": "fe299985-76d7-4184-a1c9-7292cd7649c2",
   "metadata": {},
   "outputs": [],
   "source": [
    "import numpy as np\n",
    "from torchvision.datasets import MNIST\n",
    "from numpy import ndarray\n",
    "import time"
   ]
  },
  {
   "cell_type": "code",
   "execution_count": 77,
   "id": "8184aa87-28a5-4eae-8faf-0e3f134848a0",
   "metadata": {},
   "outputs": [],
   "source": [
    "def download_mnist(is_train: bool):\n",
    "    dataset = MNIST(root='./data', transform=lambda x: np.array(x).flatten(),\n",
    "                    download=True,\n",
    "                    train=is_train)\n",
    "\n",
    "    mnist_data = []\n",
    "    mnist_labels = []\n",
    "    for image, label in dataset:\n",
    "        mnist_data.append(image)\n",
    "        mnist_labels.append(label)\n",
    "\n",
    "    return mnist_data, mnist_labels"
   ]
  },
  {
   "cell_type": "code",
   "execution_count": 78,
   "id": "d6504d7c-2694-4ef0-bbe3-48e91d99660e",
   "metadata": {},
   "outputs": [],
   "source": [
    "train_x, train_y = download_mnist(True)\n",
    "test_x, test_y = download_mnist(False)"
   ]
  },
  {
   "cell_type": "code",
   "execution_count": 79,
   "id": "d8454aaf-5eee-4ef2-b5c8-6fad74c735c4",
   "metadata": {},
   "outputs": [],
   "source": [
    "def transform_to_one_hot_encoding(arr):\n",
    "    \"\"\"\n",
    "    Used to transform the labels into one hot encoding.\n",
    "    E.g. from 0 -> [1, 0, 0, 0, 0, 0, 0, 0, 0, 0], for each element in the array\n",
    "    \"\"\"\n",
    "    np_arr = np.array(arr)\n",
    "    \n",
    "    dim_arr = len(np_arr)\n",
    "    labels = np.zeros((dim_arr, np_arr.max() + 1))\n",
    "    labels[np.arange(np_arr.size), np_arr] = 1\n",
    "    \n",
    "    return labels"
   ]
  },
  {
   "cell_type": "code",
   "execution_count": 80,
   "id": "b037a733-d50e-436f-83ad-d6f3e0095c90",
   "metadata": {},
   "outputs": [],
   "source": [
    "# Trasform python lists into numpy arrays\n",
    "training_data = np.array(train_x)\n",
    "training_labels = transform_to_one_hot_encoding(train_y)\n",
    "\n",
    "test_data = np.array(test_x)\n",
    "test_labels = transform_to_one_hot_encoding(test_y)\n",
    "\n",
    "# Normalize data\n",
    "training_data = training_data / 255.0\n",
    "test_data = test_data / 255.0"
   ]
  },
  {
   "cell_type": "code",
   "execution_count": 81,
   "id": "bbd67f0e-2f1d-43fe-b963-9de7bf67ecc5",
   "metadata": {},
   "outputs": [],
   "source": [
    "# How NN(neural network) will look\n",
    "# Layer 1 | Layer 2 | Layer 3\n",
    "#   784   |   100   |   10     (neurons on each layer)\n",
    "\n",
    "# Layer 1 will be with the input data\n",
    "# Layer 2 will be the one and only hidden layer\n",
    "# Layer 3 will be the ouput"
   ]
  },
  {
   "cell_type": "code",
   "execution_count": 124,
   "id": "7e29d9be-e6d6-41ef-ba96-79dbd09236b2",
   "metadata": {},
   "outputs": [],
   "source": [
    "def init_nn() -> (list[ndarray], list[ndarray]):\n",
    "    weights_2 = np.random.randn(784, 100)\n",
    "    weights_3 = np.random.randn(100, 10)\n",
    "\n",
    "    biases_2 = np.random.randn(1, 100)\n",
    "    biases_3 = np.random.randn(1, 10)\n",
    "\n",
    "    return [weights_2, weights_3], [biases_2, biases_3]"
   ]
  },
  {
   "cell_type": "code",
   "execution_count": 115,
   "id": "caba5541-2142-4c06-b4a4-3cd32277233a",
   "metadata": {},
   "outputs": [],
   "source": [
    "def shuffle_data_and_create_batches(training_data, training_labels, batch_size=128):\n",
    "    p = np.random.permutation(len(training_data))\n",
    "    training_data, training_labels = training_data[p], training_labels[p]\n",
    "        \n",
    "    batches_data = []\n",
    "    batches_labels = []\n",
    "\n",
    "    for i in range(0, len(training_data), batch_size):\n",
    "        batches_data.append(training_data[i:i+batch_size])\n",
    "        batches_labels.append(training_labels[i:i+batch_size])\n",
    "\n",
    "    return batches_data, batches_labels\n"
   ]
  },
  {
   "cell_type": "code",
   "execution_count": 116,
   "id": "718b57fc-8410-4df4-96c4-c9e798c6c78e",
   "metadata": {},
   "outputs": [],
   "source": [
    "def sigmoid(arr):\n",
    "    return 1.0 / (1.0 + np.exp(-arr))"
   ]
  },
  {
   "cell_type": "code",
   "execution_count": 117,
   "id": "d94c92c5-c351-4a27-8e94-ef790ddffb5c",
   "metadata": {},
   "outputs": [],
   "source": [
    "def sigmoid_prime(arr):\n",
    "    return sigmoid(arr)*(1-sigmoid(arr))"
   ]
  },
  {
   "cell_type": "code",
   "execution_count": 149,
   "id": "4d037e1a-e6a5-42e7-883f-e589a37a43e2",
   "metadata": {},
   "outputs": [],
   "source": [
    "def softmax(arr):\n",
    "    # max_arr = arr.max()\n",
    "    max_arr = arr.max(axis=1, keepdims=True)\n",
    "    exp_arr = np.exp(arr - max_arr)\n",
    "    return exp_arr / exp_arr.sum(axis=1, keepdims=True)"
   ]
  },
  {
   "cell_type": "code",
   "execution_count": null,
   "id": "0f356b99-96bb-4709-9567-d748965f8e7f",
   "metadata": {},
   "outputs": [],
   "source": []
  },
  {
   "cell_type": "code",
   "execution_count": 119,
   "id": "3652bb94-d6d4-4b9f-86b2-1a3f98b6a299",
   "metadata": {},
   "outputs": [],
   "source": [
    "def forward_propagation(batch_data, weights, biases):\n",
    "    # Apply sigmoid for first hidden layer\n",
    "    z2 = batch_data @ weights[0] + biases[0]\n",
    "    y2 = sigmoid(z2)\n",
    "\n",
    "    # Apply softmax for last layer\n",
    "    z3 = y2 @ weights[1] + biases[1]\n",
    "    y3 = softmax(z3)\n",
    "    \n",
    "    return y3"
   ]
  },
  {
   "cell_type": "code",
   "execution_count": 190,
   "id": "b759f774-16e1-4643-9791-7f616000de9e",
   "metadata": {},
   "outputs": [],
   "source": [
    "def backward_propagation(training_data, training_labels, weights, biases, learning_rate):\n",
    "    m = training_data.shape[0]\n",
    "    \n",
    "    # Apply sigmoid for first hidden layer\n",
    "    z2 = training_data @ weights[0] + biases[0]\n",
    "    y2 = sigmoid(z2)\n",
    "\n",
    "    # Apply softmax for last layer\n",
    "    z3 = y2 @ weights[1] + biases[1]\n",
    "    y3 = softmax(z3)\n",
    "\n",
    "    gradient_3 = training_labels - y3\n",
    "    weights_update_3 = y2.T @ gradient_3 * learning_rate / m\n",
    "    biases_update_3 = np.sum(gradient_3, axis=0) * learning_rate / m\n",
    "\n",
    "    gradient_2 = (gradient_3 @ weights[1].T) * sigmoid_prime(z2)\n",
    "\n",
    "    weights_update_2 = training_data.T @ gradient_2 * learning_rate / m\n",
    "    biases_update_2 = np.sum(gradient_2, axis=0) * learning_rate / m\n",
    "\n",
    "    return ([weights_update_2, weights_update_3],\n",
    "            [biases_update_2, biases_update_3])"
   ]
  },
  {
   "cell_type": "code",
   "execution_count": 191,
   "id": "b6a78870-9acc-46aa-b505-e89bfa0576d1",
   "metadata": {},
   "outputs": [],
   "source": [
    "def train(training_data, training_labels, \n",
    "          weights, biases, learning_rate=0.01, epochs=50):\n",
    "\n",
    "    total_training_time = 0\n",
    "\n",
    "    for epoch_idx in range(epochs):\n",
    "        start_time_epoch = time.time()\n",
    "\n",
    "        batches_data, batches_labels = shuffle_data_and_create_batches(training_data, training_labels)\n",
    "        for batch_data, batch_labels in zip(batches_data, batches_labels):\n",
    "            update_weights, update_biases = backward_propagation(batch_data, batch_labels, weights, biases, learning_rate)\n",
    "\n",
    "            weights = [weights[0] + update_weights[0], weights[1] + update_weights[1]]\n",
    "            biases = [biases[0] + update_biases[0], biases[1] + update_biases[1]]\n",
    "\n",
    "        duration = time.time() - start_time_epoch\n",
    "        print(f\"Epoch {epoch_idx + 1} finished in {duration}\")\n",
    "        total_training_time += duration\n",
    "        \n",
    "    print(f\"Duration training: {total_training_time}\")\n",
    "\n",
    "    return weights, biases"
   ]
  },
  {
   "cell_type": "code",
   "execution_count": 181,
   "id": "2f46ebaf-7a6a-4dbc-b188-92d3434f9254",
   "metadata": {},
   "outputs": [],
   "source": [
    "def calculate_accuracy(test_data, test_labels, weights, biases):\n",
    "    y_pred = forward_propagation(test_data, weights, biases)\n",
    "    predicted_labels = np.argmax(y_pred, axis=1)\n",
    "    true_labels = np.argmax(test_labels, axis=1)\n",
    "    correct_results = np.sum(predicted_labels == true_labels)\n",
    "    return (correct_results / len(test_data)) * 100"
   ]
  },
  {
   "cell_type": "code",
   "execution_count": 203,
   "id": "08f9782e-9e8b-4c22-998f-3648cbd6dfd7",
   "metadata": {},
   "outputs": [],
   "source": [
    "weights, biases = init_nn()"
   ]
  },
  {
   "cell_type": "code",
   "execution_count": 204,
   "id": "0fbd6de4-533f-40ed-b6b9-ee5ac7d3a4bb",
   "metadata": {},
   "outputs": [
    {
     "name": "stdout",
     "output_type": "stream",
     "text": [
      "Epoch 1 finished in 0.36101484298706055\n",
      "Epoch 2 finished in 0.4740335941314697\n",
      "Epoch 3 finished in 0.3663315773010254\n",
      "Epoch 4 finished in 0.42629575729370117\n",
      "Epoch 5 finished in 0.5887162685394287\n",
      "Epoch 6 finished in 0.6911945343017578\n",
      "Epoch 7 finished in 0.9767932891845703\n",
      "Epoch 8 finished in 0.8059229850769043\n",
      "Epoch 9 finished in 0.45921850204467773\n",
      "Epoch 10 finished in 0.7308199405670166\n",
      "Epoch 11 finished in 0.34475278854370117\n",
      "Epoch 12 finished in 0.5754756927490234\n",
      "Epoch 13 finished in 0.7255203723907471\n",
      "Epoch 14 finished in 0.9077844619750977\n",
      "Epoch 15 finished in 0.4134204387664795\n",
      "Epoch 16 finished in 0.4041252136230469\n",
      "Epoch 17 finished in 0.465381383895874\n",
      "Epoch 18 finished in 0.41702866554260254\n",
      "Epoch 19 finished in 0.5123035907745361\n",
      "Epoch 20 finished in 0.3730912208557129\n",
      "Epoch 21 finished in 0.6529583930969238\n",
      "Epoch 22 finished in 0.639235258102417\n",
      "Epoch 23 finished in 0.48391151428222656\n",
      "Epoch 24 finished in 0.45989561080932617\n",
      "Epoch 25 finished in 0.4666624069213867\n",
      "Epoch 26 finished in 0.6219673156738281\n",
      "Epoch 27 finished in 0.5712234973907471\n",
      "Epoch 28 finished in 0.4881415367126465\n",
      "Epoch 29 finished in 1.4566755294799805\n",
      "Epoch 30 finished in 0.7593073844909668\n",
      "Epoch 31 finished in 0.4159543514251709\n",
      "Epoch 32 finished in 0.3910539150238037\n",
      "Epoch 33 finished in 0.6536996364593506\n",
      "Epoch 34 finished in 0.41380763053894043\n",
      "Epoch 35 finished in 0.3454270362854004\n",
      "Epoch 36 finished in 0.3706550598144531\n",
      "Epoch 37 finished in 0.5720021724700928\n",
      "Epoch 38 finished in 0.5557911396026611\n",
      "Epoch 39 finished in 1.1111483573913574\n",
      "Epoch 40 finished in 0.4288663864135742\n",
      "Epoch 41 finished in 0.39693212509155273\n",
      "Epoch 42 finished in 0.3824179172515869\n",
      "Epoch 43 finished in 0.48454904556274414\n",
      "Epoch 44 finished in 0.36940622329711914\n",
      "Epoch 45 finished in 0.36584997177124023\n",
      "Epoch 46 finished in 0.3637728691101074\n",
      "Epoch 47 finished in 0.34666872024536133\n",
      "Epoch 48 finished in 0.3802042007446289\n",
      "Epoch 49 finished in 0.37970519065856934\n",
      "Epoch 50 finished in 0.3806576728820801\n",
      "Epoch 51 finished in 0.4060482978820801\n",
      "Epoch 52 finished in 0.3697652816772461\n",
      "Epoch 53 finished in 0.3597257137298584\n",
      "Epoch 54 finished in 0.4493837356567383\n",
      "Epoch 55 finished in 0.4174075126647949\n",
      "Epoch 56 finished in 0.3850526809692383\n",
      "Epoch 57 finished in 0.4399893283843994\n",
      "Epoch 58 finished in 0.4403386116027832\n",
      "Epoch 59 finished in 0.7923026084899902\n",
      "Epoch 60 finished in 0.4331986904144287\n",
      "Epoch 61 finished in 0.35432934761047363\n",
      "Epoch 62 finished in 0.3440065383911133\n",
      "Epoch 63 finished in 0.5603804588317871\n",
      "Epoch 64 finished in 0.9512424468994141\n",
      "Epoch 65 finished in 0.48033833503723145\n",
      "Epoch 66 finished in 0.528935432434082\n",
      "Epoch 67 finished in 0.48093605041503906\n",
      "Epoch 68 finished in 0.49060845375061035\n",
      "Epoch 69 finished in 0.39852118492126465\n",
      "Epoch 70 finished in 0.4759390354156494\n",
      "Epoch 71 finished in 0.45889854431152344\n",
      "Epoch 72 finished in 0.9225151538848877\n",
      "Epoch 73 finished in 0.4766228199005127\n",
      "Epoch 74 finished in 0.42037105560302734\n",
      "Epoch 75 finished in 0.7622411251068115\n",
      "Epoch 76 finished in 0.5155653953552246\n",
      "Epoch 77 finished in 0.4009971618652344\n",
      "Epoch 78 finished in 0.3668549060821533\n",
      "Epoch 79 finished in 0.557734489440918\n",
      "Epoch 80 finished in 0.36212921142578125\n",
      "Epoch 81 finished in 0.3540797233581543\n",
      "Epoch 82 finished in 0.4829223155975342\n",
      "Epoch 83 finished in 0.8464927673339844\n",
      "Epoch 84 finished in 0.7254979610443115\n",
      "Epoch 85 finished in 0.399918794631958\n",
      "Epoch 86 finished in 0.49980735778808594\n",
      "Epoch 87 finished in 0.4276726245880127\n",
      "Epoch 88 finished in 0.45633912086486816\n",
      "Epoch 89 finished in 0.6365208625793457\n",
      "Epoch 90 finished in 0.4255332946777344\n",
      "Epoch 91 finished in 0.3776283264160156\n",
      "Epoch 92 finished in 0.3412895202636719\n",
      "Epoch 93 finished in 0.9345214366912842\n",
      "Epoch 94 finished in 0.4245035648345947\n",
      "Epoch 95 finished in 0.4173471927642822\n",
      "Epoch 96 finished in 0.3810241222381592\n",
      "Epoch 97 finished in 0.4392218589782715\n",
      "Epoch 98 finished in 0.45967888832092285\n",
      "Epoch 99 finished in 0.953411340713501\n",
      "Epoch 100 finished in 0.6435189247131348\n",
      "Epoch 101 finished in 0.46242833137512207\n",
      "Epoch 102 finished in 0.45543694496154785\n",
      "Epoch 103 finished in 0.5421583652496338\n",
      "Epoch 104 finished in 1.7434430122375488\n",
      "Epoch 105 finished in 0.6724274158477783\n",
      "Epoch 106 finished in 1.0256226062774658\n",
      "Epoch 107 finished in 0.6340000629425049\n",
      "Epoch 108 finished in 0.5277805328369141\n",
      "Epoch 109 finished in 0.5280652046203613\n",
      "Epoch 110 finished in 0.4486358165740967\n",
      "Epoch 111 finished in 0.4329204559326172\n",
      "Epoch 112 finished in 0.46639561653137207\n",
      "Epoch 113 finished in 0.46158576011657715\n",
      "Epoch 114 finished in 0.8482763767242432\n",
      "Epoch 115 finished in 1.0967321395874023\n",
      "Epoch 116 finished in 0.5256879329681396\n",
      "Epoch 117 finished in 0.41402721405029297\n",
      "Epoch 118 finished in 0.6530935764312744\n",
      "Epoch 119 finished in 0.4508826732635498\n",
      "Epoch 120 finished in 0.5945653915405273\n",
      "Epoch 121 finished in 0.7161095142364502\n",
      "Epoch 122 finished in 0.9864110946655273\n",
      "Epoch 123 finished in 0.6072924137115479\n",
      "Epoch 124 finished in 0.6732265949249268\n",
      "Epoch 125 finished in 0.6130251884460449\n",
      "Epoch 126 finished in 0.5219423770904541\n",
      "Epoch 127 finished in 0.5369048118591309\n",
      "Epoch 128 finished in 0.7615666389465332\n",
      "Epoch 129 finished in 0.715522050857544\n",
      "Epoch 130 finished in 0.919792890548706\n",
      "Epoch 131 finished in 0.593804121017456\n",
      "Epoch 132 finished in 0.5121798515319824\n",
      "Epoch 133 finished in 0.5139172077178955\n",
      "Epoch 134 finished in 0.4236598014831543\n",
      "Epoch 135 finished in 0.364377498626709\n",
      "Epoch 136 finished in 0.369948148727417\n",
      "Epoch 137 finished in 0.37038612365722656\n",
      "Epoch 138 finished in 0.40972161293029785\n",
      "Epoch 139 finished in 0.4450697898864746\n",
      "Epoch 140 finished in 0.7011415958404541\n",
      "Epoch 141 finished in 0.427135705947876\n",
      "Epoch 142 finished in 0.4289414882659912\n",
      "Epoch 143 finished in 0.6955485343933105\n",
      "Epoch 144 finished in 0.4004244804382324\n",
      "Epoch 145 finished in 0.7439079284667969\n",
      "Epoch 146 finished in 0.7419774532318115\n",
      "Epoch 147 finished in 0.46991729736328125\n",
      "Epoch 148 finished in 0.5315837860107422\n",
      "Epoch 149 finished in 1.405710220336914\n",
      "Epoch 150 finished in 0.5746655464172363\n",
      "Epoch 151 finished in 0.48291707038879395\n",
      "Epoch 152 finished in 0.4428088665008545\n",
      "Epoch 153 finished in 0.40030670166015625\n",
      "Epoch 154 finished in 0.5175817012786865\n",
      "Epoch 155 finished in 0.3940467834472656\n",
      "Epoch 156 finished in 0.41219234466552734\n",
      "Epoch 157 finished in 0.8105289936065674\n",
      "Epoch 158 finished in 0.515639066696167\n",
      "Epoch 159 finished in 0.37855982780456543\n",
      "Epoch 160 finished in 0.5017402172088623\n",
      "Duration training: 88.17338156700134\n"
     ]
    }
   ],
   "source": [
    "weights_after_training, biases_after_training = train(training_data, training_labels, weights, biases, learning_rate=0.1, epochs=160)"
   ]
  },
  {
   "cell_type": "code",
   "execution_count": 205,
   "id": "69ba525b-ae58-4409-91b9-f0849b19355a",
   "metadata": {},
   "outputs": [
    {
     "data": {
      "text/plain": [
       "np.float64(94.8)"
      ]
     },
     "execution_count": 205,
     "metadata": {},
     "output_type": "execute_result"
    }
   ],
   "source": [
    "calculate_accuracy(test_data, test_labels, weights_after_training, biases_after_training)"
   ]
  },
  {
   "cell_type": "code",
   "execution_count": null,
   "id": "b36ee9a3-af53-4ffe-86ce-e4eb0042f666",
   "metadata": {},
   "outputs": [],
   "source": []
  }
 ],
 "metadata": {
  "kernelspec": {
   "display_name": "Python 3 (ipykernel)",
   "language": "python",
   "name": "python3"
  },
  "language_info": {
   "codemirror_mode": {
    "name": "ipython",
    "version": 3
   },
   "file_extension": ".py",
   "mimetype": "text/x-python",
   "name": "python",
   "nbconvert_exporter": "python",
   "pygments_lexer": "ipython3",
   "version": "3.12.7"
  }
 },
 "nbformat": 4,
 "nbformat_minor": 5
}
